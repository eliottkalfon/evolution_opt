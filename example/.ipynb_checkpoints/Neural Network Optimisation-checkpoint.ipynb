{
 "cells": [
  {
   "attachments": {
    "eo_logo.png": {
     "image/png": "[encoded data removed]"
    }
   },
   "cell_type": "markdown",
   "metadata": {},
   "source": [
    "![eo_logo.png](attachment:eo_logo.png)"
   ]
  },
  {
   "cell_type": "markdown",
   "metadata": {},
   "source": [
    "![eo_logo.png](https://github.com/eliottkalfon/evolution_opt/blob/master/resources/eo_logo.png)"
   ]
  },
  {
   "cell_type": "markdown",
   "metadata": {},
   "source": [
    "# Tuning a Neural Network's arhcitecture and hyperparameters with a genetic algorithm"
   ]
  },
  {
   "cell_type": "markdown",
   "metadata": {},
   "source": [
    "This notebook will show how a neural network's architecture and hyperparameters can be tuned using a **genetic algorithm**. The NN will be evaluated on the sonar dataset. \n",
    "\n",
    "The optimisation process includes three main steps:<br>\n",
    "1) Coding the **evaluation function** - taking a dictionar of parameters as argument and returning a scalar <br>\n",
    "2) Defining the **search space**, a list of integer, real or categorical parameters<br>\n",
    "3) Running the **optimisation function**<br>\n",
    "\n",
    "The datasety can be found in the [UCI Machine Learning Repository](https://archive.ics.uci.edu/ml/datasets/Connectionist+Bench+(Sonar,+Mines+vs.+Rocks))\n",
    "\n",
    "The NN evaluation function was informed by this [web page](https://machinelearningmastery.com/binary-classification-tutorial-with-the-keras-deep-learning-library/)\n",
    "\n",
    "General evolution_opt documentation can be found [here](https://eliottkalfon.github.io/evolution_opt/)"
   ]
  },
  {
   "cell_type": "markdown",
   "metadata": {},
   "source": [
    "## Importing the main packages"
   ]
  },
  {
   "cell_type": "code",
   "execution_count": 1,
   "metadata": {},
   "outputs": [
    {
     "name": "stderr",
     "output_type": "stream",
     "text": [
      "Using TensorFlow backend.\n"
     ]
    }
   ],
   "source": [
    "import pandas as pd\n",
    "from evolution_opt.genetic import *\n",
    "\n",
    "from keras.models import Sequential\n",
    "from keras.layers import Dense, Dropout\n",
    "from keras.wrappers.scikit_learn import KerasClassifier\n",
    "\n",
    "from sklearn.model_selection import cross_val_score\n",
    "from sklearn.preprocessing import LabelEncoder\n",
    "from sklearn.model_selection import StratifiedKFold\n",
    "from sklearn.preprocessing import StandardScaler\n",
    "from sklearn.pipeline import Pipeline\n"
   ]
  },
  {
   "cell_type": "markdown",
   "metadata": {},
   "source": [
    "## Reading and preparing sonar dataset"
   ]
  },
  {
   "cell_type": "code",
   "execution_count": 2,
   "metadata": {},
   "outputs": [],
   "source": [
    "# load dataset\n",
    "dataframe = pd.read_csv('sonar_dataset.txt', header=None)\n",
    "dataset = dataframe.values\n",
    "# split into input (X) and output (Y) variables\n",
    "X = dataset[:,0:60].astype(float)\n",
    "Y = dataset[:,60]\n",
    "# encode class values as integers\n",
    "encoder = LabelEncoder()\n",
    "encoder.fit(Y)\n",
    "encoded_Y = encoder.transform(Y)"
   ]
  },
  {
   "cell_type": "markdown",
   "metadata": {},
   "source": [
    "## Coding the evaluation function"
   ]
  },
  {
   "cell_type": "code",
   "execution_count": 3,
   "metadata": {},
   "outputs": [],
   "source": [
    "def evaluate_nn(param_dict):\n",
    "    '''\n",
    "    This function will create and evaluate a NN based on the parameters of a given individual\n",
    "    '''\n",
    "    def model_build():\n",
    "        model = Sequential()\n",
    "        model.add(Dense(param_dict['n_neurons_layer1'], input_dim=60, activation=param_dict['activation_fn']))\n",
    "        #The NN architecture will not set a dropout superior to 0.5\n",
    "        #If a dropout parameter has a value superior to 0.5, no dropout is applied\n",
    "        if param_dict['dropout_1'] < 0.5:\n",
    "        model.add(Dropout(param_dict['dropout_1']))\n",
    "        if param_dict['n_hidden_layers'] >= 2:\n",
    "            model.add(Dense(param_dict['n_neurons_layer2'], activation=param_dict['activation_fn']))\n",
    "            if param_dict['dropout_2'] < 0.5:\n",
    "            model.add(Dropout(param_dict['dropout_2']))\n",
    "        if param_dict['n_hidden_layers'] >= 3:\n",
    "            model.add(Dense(param_dict['n_neurons_layer3'], activation=param_dict['activation_fn']))\n",
    "            if param_dict['dropout_3'] < 0.5:\n",
    "            model.add(Dropout(param_dict['dropout_3']))\n",
    "        model.add(Dense(1, activation='sigmoid'))\n",
    "        #Compile model\n",
    "        model.compile(loss='binary_crossentropy', optimizer='adam', metrics=['accuracy'])\n",
    "        return model\n",
    "    #Evaluate the model on the sonar dataset\n",
    "    estimators = []\n",
    "    estimators.append(('standardize', StandardScaler()))\n",
    "    estimators.append(('mlp', KerasClassifier(build_fn=model_build, epochs=param_dict['n_epochs'], batch_size=param_dict['batch_size'], verbose=0)))\n",
    "    pipeline = Pipeline(estimators)\n",
    "    kfold = StratifiedKFold(n_splits=3, shuffle=True)\n",
    "    results = cross_val_score(pipeline, X, encoded_Y, cv=kfold)\n",
    "    #Returns the average accuracy across the cross validation splits\n",
    "    return np.mean(results)"
   ]
  },
  {
   "cell_type": "markdown",
   "metadata": {},
   "source": [
    "## Defining the search space"
   ]
  },
  {
   "cell_type": "code",
   "execution_count": 7,
   "metadata": {},
   "outputs": [],
   "source": [
    "#Search space parameters can be Real, Integers or Categorical\n",
    "search_space = [\n",
    "    Real(0.001, 0.8, 'learning_rate', precision = 2, prior = 'lognormal', mean = 0.1, stdev = 1),\n",
    "    Integer(1,3, 'n_hidden_layers'),\n",
    "    Integer(20, 140, 'n_epochs', step = 20),\n",
    "    Integer(2, 32, 'batch_size', step = 2),\n",
    "    Categorical(['relu', 'sigmoid', 'tanh'], 'activation_fn'),\n",
    "    Integer(20, 150, 'n_neurons_layer1', step = 10),\n",
    "    Integer(20, 150, 'n_neurons_layer2', step = 10),\n",
    "    Integer(20, 150, 'n_neurons_layer3', step = 10),\n",
    "    Real(0, 1, 'dropout_1', precision = 2),\n",
    "    Real(0, 1, 'dropout_2', precision = 2),\n",
    "    Real(0, 1, 'dropout_3', precision = 2),\n",
    "]"
   ]
  },
  {
   "cell_type": "markdown",
   "metadata": {},
   "source": [
    "**Note**: Following our configuration, no dropout will be applied if the selected rate is above 0.5"
   ]
  },
  {
   "cell_type": "markdown",
   "metadata": {},
   "source": [
    "## Running the optimisation function"
   ]
  },
  {
   "cell_type": "code",
   "execution_count": 9,
   "metadata": {},
   "outputs": [
    {
     "name": "stdout",
     "output_type": "stream",
     "text": [
      "Working on evolution round: 1\n",
      "Best score: 0.841269830862681\n",
      "Best parameters: {'learning_rate': 0.8, 'n_hidden_layers': 2, 'n_epochs': 120, 'batch_size': 16, 'activation_fn': 'relu', 'n_neurons_layer1': 30, 'n_neurons_layer2': 30, 'n_neurons_layer3': 80, 'dropout_1': 0.42, 'dropout_2': 0.6, 'dropout_3': 0.13}\n",
      "Working on evolution round: 2\n",
      "Best score: 0.8462387720743815\n",
      "Best parameters: {'learning_rate': 0.8, 'n_hidden_layers': 1, 'n_epochs': 20, 'batch_size': 10, 'activation_fn': 'relu', 'n_neurons_layer1': 130, 'n_neurons_layer2': 140, 'n_neurons_layer3': 80, 'dropout_1': 0.65, 'dropout_2': 0.33, 'dropout_3': 0.54}\n",
      "Working on evolution round: 3\n",
      "Best score: 0.8650793433189392\n",
      "Best parameters: {'learning_rate': 0.8, 'n_hidden_layers': 2, 'n_epochs': 100, 'batch_size': 22, 'activation_fn': 'relu', 'n_neurons_layer1': 130, 'n_neurons_layer2': 140, 'n_neurons_layer3': 140, 'dropout_1': 0.62, 'dropout_2': 0.33, 'dropout_3': 0.51}\n",
      "Working on evolution round: 4\n",
      "Best score: 0.8655624588330587\n",
      "Best parameters: {'learning_rate': 0.8, 'n_hidden_layers': 1, 'n_epochs': 100, 'batch_size': 22, 'activation_fn': 'relu', 'n_neurons_layer1': 60, 'n_neurons_layer2': 100, 'n_neurons_layer3': 140, 'dropout_1': 0.62, 'dropout_2': 0.89, 'dropout_3': 0.51}\n",
      "Working on evolution round: 5\n",
      "Best score: 0.8655624588330587\n",
      "Best parameters: {'learning_rate': 0.8, 'n_hidden_layers': 1, 'n_epochs': 100, 'batch_size': 22, 'activation_fn': 'relu', 'n_neurons_layer1': 60, 'n_neurons_layer2': 100, 'n_neurons_layer3': 140, 'dropout_1': 0.62, 'dropout_2': 0.89, 'dropout_3': 0.51}\n",
      "Number of Iterations: 5\n",
      "Best score: 0.8655624588330587\n",
      "Best parameters: {'learning_rate': 0.8, 'n_hidden_layers': 1, 'n_epochs': 100, 'batch_size': 22, 'activation_fn': 'relu', 'n_neurons_layer1': 60, 'n_neurons_layer2': 100, 'n_neurons_layer3': 140, 'dropout_1': 0.62, 'dropout_2': 0.89, 'dropout_3': 0.51}\n"
     ]
    }
   ],
   "source": [
    "best_params = optimise(evaluate_nn, search_space,\n",
    "             minimize=False, population_size=10,\n",
    "             n_rounds=5, n_children=10, verbose=True)"
   ]
  },
  {
   "cell_type": "code",
   "execution_count": 10,
   "metadata": {},
   "outputs": [
    {
     "data": {
      "text/plain": [
       "{'learning_rate': 0.8,\n",
       " 'n_hidden_layers': 1,\n",
       " 'n_epochs': 100,\n",
       " 'batch_size': 22,\n",
       " 'activation_fn': 'relu',\n",
       " 'n_neurons_layer1': 60,\n",
       " 'n_neurons_layer2': 100,\n",
       " 'n_neurons_layer3': 140,\n",
       " 'dropout_1': 0.62,\n",
       " 'dropout_2': 0.89,\n",
       " 'dropout_3': 0.51}"
      ]
     },
     "execution_count": 10,
     "metadata": {},
     "output_type": "execute_result"
    }
   ],
   "source": [
    "best_params"
   ]
  },
  {
   "cell_type": "markdown",
   "metadata": {},
   "source": [
    "**Note**: the best architecture has a single hidden layer. All of the parameters containing the suffix \"2\" or \"3\" do not have any implication on the model"
   ]
  },
  {
   "cell_type": "code",
   "execution_count": null,
   "metadata": {},
   "outputs": [],
   "source": []
  }
 ],
 "metadata": {
  "kernelspec": {
   "display_name": "tf_env",
   "language": "python",
   "name": "tf_env"
  },
  "language_info": {
   "codemirror_mode": {
    "name": "ipython",
    "version": 3
   },
   "file_extension": ".py",
   "mimetype": "text/x-python",
   "name": "python",
   "nbconvert_exporter": "python",
   "pygments_lexer": "ipython3",
   "version": "3.6.5"
  }
 },
 "nbformat": 4,
 "nbformat_minor": 4
}
