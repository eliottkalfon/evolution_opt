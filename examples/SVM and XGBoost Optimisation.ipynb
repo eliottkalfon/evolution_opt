{
 "cells": [
  {
   "cell_type": "markdown",
   "metadata": {},
   "source": [
    "# Tuning SVM and XGBoost"
   ]
  },
  {
   "cell_type": "markdown",
   "metadata": {},
   "source": [
    "This notebook will show how to tune a SVM's and XGBoost hyperparameters using a **genetic algorithm**. The NN will be evaluated on the sonar dataset. \n",
    "\n",
    "The datasety can be found in the [UCI Machine Learning Repository](https://archive.ics.uci.edu/ml/datasets/Connectionist+Bench+(Sonar,+Mines+vs.+Rocks))\n",
    "\n"
   ]
  },
  {
   "cell_type": "markdown",
   "metadata": {},
   "source": [
    "## Importing the main packages"
   ]
  },
  {
   "cell_type": "code",
   "execution_count": 2,
   "metadata": {},
   "outputs": [],
   "source": [
    "import pandas as pd\n",
    "from evolution_opt.genetic import *\n",
    "\n",
    "from sklearn.model_selection import cross_val_score\n",
    "from sklearn.preprocessing import LabelEncoder\n",
    "from sklearn.model_selection import StratifiedKFold\n",
    "from sklearn.preprocessing import StandardScaler\n",
    "from sklearn.pipeline import Pipeline\n",
    "from sklearn.svm import SVC\n",
    "\n",
    "import xgboost as xgb\n"
   ]
  },
  {
   "cell_type": "code",
   "execution_count": null,
   "metadata": {},
   "outputs": [],
   "source": []
  },
  {
   "cell_type": "markdown",
   "metadata": {},
   "source": [
    "## Reading and preparing sonar dataset"
   ]
  },
  {
   "cell_type": "code",
   "execution_count": 3,
   "metadata": {},
   "outputs": [],
   "source": [
    "# load dataset\n",
    "dataframe = pd.read_csv('sonar_dataset.txt', header=None)\n",
    "dataset = dataframe.values\n",
    "# split into input (X) and output (Y) variables\n",
    "X = dataset[:,0:60].astype(float)\n",
    "Y = dataset[:,60]\n",
    "# encode class values as integers\n",
    "encoder = LabelEncoder()\n",
    "encoder.fit(Y)\n",
    "encoded_Y = encoder.transform(Y)"
   ]
  },
  {
   "cell_type": "markdown",
   "metadata": {},
   "source": [
    "## Coding the evaluation function"
   ]
  },
  {
   "cell_type": "code",
   "execution_count": 4,
   "metadata": {},
   "outputs": [],
   "source": [
    "def evaluate_svm(param_dict):\n",
    "    '''\n",
    "    This function will create and evaluate a NN based on the parameters of a given individual\n",
    "    '''\n",
    "    # evaluate baseline model with standardized dataset\n",
    "    estimators = []\n",
    "    estimators.append(('standardize', StandardScaler()))\n",
    "    estimators.append(('svm', SVC(C=param_dict['C'], kernel=param_dict['kernel'], \n",
    "                                  gamma=param_dict['gamma'], degree=param_dict['degree'])))\n",
    "    pipeline = Pipeline(estimators)\n",
    "    kfold = StratifiedKFold(n_splits=3, shuffle=True)\n",
    "    results = cross_val_score(pipeline, X, encoded_Y, cv=kfold)\n",
    "    #Returns the average accuracy across the cross validation splits\n",
    "    return np.mean(results)"
   ]
  },
  {
   "cell_type": "markdown",
   "metadata": {},
   "source": [
    "## Defining the search space"
   ]
  },
  {
   "cell_type": "code",
   "execution_count": 5,
   "metadata": {},
   "outputs": [],
   "source": [
    "search_space = [\n",
    "    Integer(1, 1000, 'C', step = 10),\n",
    "    Categorical(['rbf', 'linear', 'poly', 'sigmoid'], 'kernel'),\n",
    "    Real(0.001, 0.1, 'gamma', precision = 3),\n",
    "    Integer(1,5, 'degree')\n",
    "]"
   ]
  },
  {
   "cell_type": "markdown",
   "metadata": {},
   "source": [
    "**Note**: A dropout percentage inferior to 0.5 means no dropout"
   ]
  },
  {
   "cell_type": "markdown",
   "metadata": {},
   "source": [
    "## Sense-checking prior distributions"
   ]
  },
  {
   "cell_type": "markdown",
   "metadata": {},
   "source": [
    "**Note**: defining a prior distribution is not compulsory. The default prior distribution is uniform."
   ]
  },
  {
   "cell_type": "code",
   "execution_count": 6,
   "metadata": {},
   "outputs": [
    {
     "name": "stdout",
     "output_type": "stream",
     "text": [
      "Parameter Name: gamma \n",
      "Prior Distribution: uniform\n"
     ]
    },
    {
     "data": {
      "image/png": "[encoded data removed]",
      "text/plain": [
       "<Figure size 432x288 with 1 Axes>"
      ]
     },
     "metadata": {
      "needs_background": "light"
     },
     "output_type": "display_data"
    }
   ],
   "source": [
    "for param in search_space:\n",
    "    if param.var_type == 'real':\n",
    "        param.plot_prior()"
   ]
  },
  {
   "cell_type": "markdown",
   "metadata": {},
   "source": [
    "## Running the optimisation function"
   ]
  },
  {
   "cell_type": "code",
   "execution_count": 9,
   "metadata": {},
   "outputs": [
    {
     "name": "stdout",
     "output_type": "stream",
     "text": [
      "Number of Iterations: 500\n",
      "Best score: 0.9136645962732919\n",
      "Best parameters: {'C': 571, 'kernel': 'rbf', 'gamma': 0.021, 'degree': 1}\n"
     ]
    }
   ],
   "source": [
    "best_params = optimise(evaluate_svm, search_space,\n",
    "             minimize=False, population_size=10,\n",
    "             n_rounds=500, n_children=10, verbose=False)"
   ]
  },
  {
   "cell_type": "code",
   "execution_count": 10,
   "metadata": {},
   "outputs": [
    {
     "data": {
      "text/plain": [
       "{'C': 571, 'kernel': 'rbf', 'gamma': 0.021, 'degree': 1}"
      ]
     },
     "execution_count": 10,
     "metadata": {},
     "output_type": "execute_result"
    }
   ],
   "source": [
    "best_params"
   ]
  },
  {
   "cell_type": "code",
   "execution_count": 12,
   "metadata": {},
   "outputs": [],
   "source": [
    "def evaluate_xgboost(param_dict):\n",
    "    '''\n",
    "    This function will create and evaluate a NN based on the parameters of a given individual\n",
    "    '''\n",
    "    # evaluate baseline model with standardized dataset\n",
    "    estimators = []\n",
    "    estimators.append(('standardize', StandardScaler()))\n",
    "    estimators.append(('xgb', xgb.XGBClassifier(objective='binary:logistic', learning_rate=param_dict['learning_rate'],\n",
    "                                               gamma=param_dict['gamma'], max_depth=param_dict['max_depth'],\n",
    "                                               min_child_weight=param_dict['min_child_weight'], subsample=param_dict['subsample'], \n",
    "                                                colsample_bytree=param_dict['colsample'])))\n",
    "    pipeline = Pipeline(estimators)\n",
    "    kfold = StratifiedKFold(n_splits=3, shuffle=True)\n",
    "    results = cross_val_score(pipeline, X, encoded_Y, cv=kfold)\n",
    "    #Returns the average accuracy across the cross validation splits\n",
    "    return np.mean(results)"
   ]
  },
  {
   "cell_type": "code",
   "execution_count": 13,
   "metadata": {},
   "outputs": [],
   "source": [
    "search_space = [\n",
    "    Real(0, 0.9, 'learning_rate'),\n",
    "    Integer(2, 15, 'max_depth'),\n",
    "    Real(0, 5, 'gamma'),\n",
    "    Integer(2, 15, 'min_child_weight'),\n",
    "    Real(0.1, 1, 'subsample'),\n",
    "    Real(0.1, 1, 'colsample')\n",
    "]"
   ]
  },
  {
   "cell_type": "code",
   "execution_count": 16,
   "metadata": {},
   "outputs": [
    {
     "name": "stdout",
     "output_type": "stream",
     "text": [
      "Working on evolution round: 1\n",
      "Best score: 0.8124223602484472\n",
      "Best parameters: {'learning_rate': 0.178, 'max_depth': 4, 'gamma': 4.876, 'min_child_weight': 2, 'subsample': 0.911, 'colsample': 0.437}\n",
      "Working on evolution round: 2\n",
      "Best score: 0.8269151138716356\n",
      "Best parameters: {'learning_rate': 0.325, 'max_depth': 6, 'gamma': 4.876, 'min_child_weight': 2, 'subsample': 0.911, 'colsample': 0.643}\n",
      "Working on evolution round: 3\n",
      "Best score: 0.8271221532091096\n",
      "Best parameters: {'learning_rate': 0.714, 'max_depth': 5, 'gamma': 1.632, 'min_child_weight': 3, 'subsample': 0.9, 'colsample': 0.914}\n",
      "Working on evolution round: 4\n",
      "Best score: 0.831608005521049\n",
      "Best parameters: {'learning_rate': 0.38, 'max_depth': 5, 'gamma': 1.632, 'min_child_weight': 2, 'subsample': 0.9, 'colsample': 0.914}\n",
      "Working on evolution round: 5\n",
      "Best score: 0.8557625948930295\n",
      "Best parameters: {'learning_rate': 0.676, 'max_depth': 5, 'gamma': 1.572, 'min_child_weight': 3, 'subsample': 0.9, 'colsample': 0.914}\n",
      "Working on evolution round: 6\n",
      "Best score: 0.8557625948930295\n",
      "Best parameters: {'learning_rate': 0.676, 'max_depth': 5, 'gamma': 1.572, 'min_child_weight': 3, 'subsample': 0.9, 'colsample': 0.914}\n",
      "Working on evolution round: 7\n",
      "Best score: 0.8557625948930295\n",
      "Best parameters: {'learning_rate': 0.676, 'max_depth': 5, 'gamma': 1.572, 'min_child_weight': 3, 'subsample': 0.9, 'colsample': 0.914}\n",
      "Working on evolution round: 8\n",
      "Best score: 0.8701863354037268\n",
      "Best parameters: {'learning_rate': 0.325, 'max_depth': 5, 'gamma': 1.081, 'min_child_weight': 4, 'subsample': 0.9, 'colsample': 0.914}\n",
      "Working on evolution round: 9\n",
      "Best score: 0.8701863354037268\n",
      "Best parameters: {'learning_rate': 0.325, 'max_depth': 5, 'gamma': 1.081, 'min_child_weight': 4, 'subsample': 0.9, 'colsample': 0.914}\n",
      "Working on evolution round: 10\n",
      "Best score: 0.8701863354037268\n",
      "Best parameters: {'learning_rate': 0.325, 'max_depth': 5, 'gamma': 1.081, 'min_child_weight': 4, 'subsample': 0.9, 'colsample': 0.914}\n",
      "Working on evolution round: 11\n",
      "Best score: 0.8701863354037268\n",
      "Best parameters: {'learning_rate': 0.325, 'max_depth': 5, 'gamma': 1.081, 'min_child_weight': 4, 'subsample': 0.9, 'colsample': 0.914}\n",
      "Working on evolution round: 12\n",
      "Best score: 0.8701863354037268\n",
      "Best parameters: {'learning_rate': 0.325, 'max_depth': 5, 'gamma': 1.081, 'min_child_weight': 4, 'subsample': 0.9, 'colsample': 0.914}\n",
      "Working on evolution round: 13\n",
      "Best score: 0.8701863354037268\n",
      "Best parameters: {'learning_rate': 0.325, 'max_depth': 5, 'gamma': 1.081, 'min_child_weight': 4, 'subsample': 0.9, 'colsample': 0.914}\n",
      "Working on evolution round: 14\n",
      "Best score: 0.8701863354037268\n",
      "Best parameters: {'learning_rate': 0.325, 'max_depth': 5, 'gamma': 1.081, 'min_child_weight': 4, 'subsample': 0.9, 'colsample': 0.914}\n",
      "Working on evolution round: 15\n",
      "Best score: 0.8703243616287094\n",
      "Best parameters: {'learning_rate': 0.19, 'max_depth': 5, 'gamma': 0.042, 'min_child_weight': 2, 'subsample': 0.9, 'colsample': 0.437}\n",
      "Working on evolution round: 16\n",
      "Best score: 0.8703243616287094\n",
      "Best parameters: {'learning_rate': 0.19, 'max_depth': 5, 'gamma': 0.042, 'min_child_weight': 2, 'subsample': 0.9, 'colsample': 0.437}\n",
      "Working on evolution round: 17\n",
      "Best score: 0.8703243616287094\n",
      "Best parameters: {'learning_rate': 0.19, 'max_depth': 5, 'gamma': 0.042, 'min_child_weight': 2, 'subsample': 0.9, 'colsample': 0.437}\n",
      "Working on evolution round: 18\n",
      "Best score: 0.8703243616287094\n",
      "Best parameters: {'learning_rate': 0.19, 'max_depth': 5, 'gamma': 0.042, 'min_child_weight': 2, 'subsample': 0.9, 'colsample': 0.437}\n",
      "Working on evolution round: 19\n",
      "Best score: 0.8703243616287094\n",
      "Best parameters: {'learning_rate': 0.19, 'max_depth': 5, 'gamma': 0.042, 'min_child_weight': 2, 'subsample': 0.9, 'colsample': 0.437}\n",
      "Working on evolution round: 20\n",
      "Best score: 0.8703243616287094\n",
      "Best parameters: {'learning_rate': 0.19, 'max_depth': 5, 'gamma': 0.042, 'min_child_weight': 2, 'subsample': 0.9, 'colsample': 0.437}\n",
      "Working on evolution round: 21\n",
      "Best score: 0.8703243616287094\n",
      "Best parameters: {'learning_rate': 0.19, 'max_depth': 5, 'gamma': 0.042, 'min_child_weight': 2, 'subsample': 0.9, 'colsample': 0.437}\n",
      "Working on evolution round: 22\n",
      "Best score: 0.8703243616287094\n",
      "Best parameters: {'learning_rate': 0.19, 'max_depth': 5, 'gamma': 0.042, 'min_child_weight': 2, 'subsample': 0.9, 'colsample': 0.437}\n",
      "Working on evolution round: 23\n",
      "Best score: 0.8703243616287094\n",
      "Best parameters: {'learning_rate': 0.19, 'max_depth': 5, 'gamma': 0.042, 'min_child_weight': 2, 'subsample': 0.9, 'colsample': 0.437}\n",
      "Working on evolution round: 24\n",
      "Best score: 0.8703243616287094\n",
      "Best parameters: {'learning_rate': 0.19, 'max_depth': 5, 'gamma': 0.042, 'min_child_weight': 2, 'subsample': 0.9, 'colsample': 0.437}\n",
      "Working on evolution round: 25\n",
      "Best score: 0.8703243616287094\n",
      "Best parameters: {'learning_rate': 0.19, 'max_depth': 5, 'gamma': 0.042, 'min_child_weight': 2, 'subsample': 0.9, 'colsample': 0.437}\n",
      "Working on evolution round: 26\n",
      "Best score: 0.8703243616287094\n",
      "Best parameters: {'learning_rate': 0.19, 'max_depth': 5, 'gamma': 0.042, 'min_child_weight': 2, 'subsample': 0.9, 'colsample': 0.437}\n",
      "Working on evolution round: 27\n",
      "Best score: 0.8703243616287094\n",
      "Best parameters: {'learning_rate': 0.19, 'max_depth': 5, 'gamma': 0.042, 'min_child_weight': 2, 'subsample': 0.9, 'colsample': 0.437}\n",
      "Working on evolution round: 28\n",
      "Best score: 0.8703243616287094\n",
      "Best parameters: {'learning_rate': 0.19, 'max_depth': 5, 'gamma': 0.042, 'min_child_weight': 2, 'subsample': 0.9, 'colsample': 0.437}\n",
      "Working on evolution round: 29\n",
      "Best score: 0.8703243616287094\n",
      "Best parameters: {'learning_rate': 0.19, 'max_depth': 5, 'gamma': 0.042, 'min_child_weight': 2, 'subsample': 0.9, 'colsample': 0.437}\n",
      "Working on evolution round: 30\n",
      "Best score: 0.8703243616287094\n",
      "Best parameters: {'learning_rate': 0.19, 'max_depth': 5, 'gamma': 0.042, 'min_child_weight': 2, 'subsample': 0.9, 'colsample': 0.437}\n",
      "Working on evolution round: 31\n",
      "Best score: 0.8703243616287094\n",
      "Best parameters: {'learning_rate': 0.19, 'max_depth': 5, 'gamma': 0.042, 'min_child_weight': 2, 'subsample': 0.9, 'colsample': 0.437}\n",
      "Working on evolution round: 32\n",
      "Best score: 0.8703243616287094\n",
      "Best parameters: {'learning_rate': 0.19, 'max_depth': 5, 'gamma': 0.042, 'min_child_weight': 2, 'subsample': 0.9, 'colsample': 0.437}\n",
      "Working on evolution round: 33\n",
      "Best score: 0.8703243616287094\n",
      "Best parameters: {'learning_rate': 0.19, 'max_depth': 5, 'gamma': 0.042, 'min_child_weight': 2, 'subsample': 0.9, 'colsample': 0.437}\n",
      "Working on evolution round: 34\n",
      "Best score: 0.8703243616287094\n",
      "Best parameters: {'learning_rate': 0.19, 'max_depth': 5, 'gamma': 0.042, 'min_child_weight': 2, 'subsample': 0.9, 'colsample': 0.437}\n",
      "Working on evolution round: 35\n",
      "Best score: 0.8703243616287094\n",
      "Best parameters: {'learning_rate': 0.19, 'max_depth': 5, 'gamma': 0.042, 'min_child_weight': 2, 'subsample': 0.9, 'colsample': 0.437}\n",
      "Working on evolution round: 36\n",
      "Best score: 0.8703243616287094\n",
      "Best parameters: {'learning_rate': 0.19, 'max_depth': 5, 'gamma': 0.042, 'min_child_weight': 2, 'subsample': 0.9, 'colsample': 0.437}\n",
      "Working on evolution round: 37\n",
      "Best score: 0.8703243616287094\n",
      "Best parameters: {'learning_rate': 0.19, 'max_depth': 5, 'gamma': 0.042, 'min_child_weight': 2, 'subsample': 0.9, 'colsample': 0.437}\n",
      "Working on evolution round: 38\n",
      "Best score: 0.8703243616287094\n",
      "Best parameters: {'learning_rate': 0.19, 'max_depth': 5, 'gamma': 0.042, 'min_child_weight': 2, 'subsample': 0.9, 'colsample': 0.437}\n",
      "Working on evolution round: 39\n",
      "Best score: 0.8703243616287094\n",
      "Best parameters: {'learning_rate': 0.19, 'max_depth': 5, 'gamma': 0.042, 'min_child_weight': 2, 'subsample': 0.9, 'colsample': 0.437}\n",
      "Working on evolution round: 40\n",
      "Best score: 0.8703243616287094\n",
      "Best parameters: {'learning_rate': 0.19, 'max_depth': 5, 'gamma': 0.042, 'min_child_weight': 2, 'subsample': 0.9, 'colsample': 0.437}\n",
      "Working on evolution round: 41\n",
      "Best score: 0.8703243616287094\n",
      "Best parameters: {'learning_rate': 0.19, 'max_depth': 5, 'gamma': 0.042, 'min_child_weight': 2, 'subsample': 0.9, 'colsample': 0.437}\n",
      "Working on evolution round: 42\n",
      "Best score: 0.8703243616287094\n",
      "Best parameters: {'learning_rate': 0.19, 'max_depth': 5, 'gamma': 0.042, 'min_child_weight': 2, 'subsample': 0.9, 'colsample': 0.437}\n"
     ]
    },
    {
     "name": "stdout",
     "output_type": "stream",
     "text": [
      "Working on evolution round: 43\n",
      "Best score: 0.8703243616287094\n",
      "Best parameters: {'learning_rate': 0.19, 'max_depth': 5, 'gamma': 0.042, 'min_child_weight': 2, 'subsample': 0.9, 'colsample': 0.437}\n",
      "Working on evolution round: 44\n",
      "Best score: 0.8703243616287094\n",
      "Best parameters: {'learning_rate': 0.19, 'max_depth': 5, 'gamma': 0.042, 'min_child_weight': 2, 'subsample': 0.9, 'colsample': 0.437}\n",
      "Working on evolution round: 45\n",
      "Best score: 0.8703243616287094\n",
      "Best parameters: {'learning_rate': 0.19, 'max_depth': 5, 'gamma': 0.042, 'min_child_weight': 2, 'subsample': 0.9, 'colsample': 0.437}\n",
      "Working on evolution round: 46\n",
      "Best score: 0.8703243616287094\n",
      "Best parameters: {'learning_rate': 0.19, 'max_depth': 5, 'gamma': 0.042, 'min_child_weight': 2, 'subsample': 0.9, 'colsample': 0.437}\n",
      "Working on evolution round: 47\n",
      "Best score: 0.8703243616287094\n",
      "Best parameters: {'learning_rate': 0.19, 'max_depth': 5, 'gamma': 0.042, 'min_child_weight': 2, 'subsample': 0.9, 'colsample': 0.437}\n",
      "Working on evolution round: 48\n",
      "Best score: 0.8703243616287094\n",
      "Best parameters: {'learning_rate': 0.19, 'max_depth': 5, 'gamma': 0.042, 'min_child_weight': 2, 'subsample': 0.9, 'colsample': 0.437}\n",
      "Working on evolution round: 49\n",
      "Best score: 0.8703243616287094\n",
      "Best parameters: {'learning_rate': 0.19, 'max_depth': 5, 'gamma': 0.042, 'min_child_weight': 2, 'subsample': 0.9, 'colsample': 0.437}\n",
      "Working on evolution round: 50\n",
      "Best score: 0.8703243616287094\n",
      "Best parameters: {'learning_rate': 0.19, 'max_depth': 5, 'gamma': 0.042, 'min_child_weight': 2, 'subsample': 0.9, 'colsample': 0.437}\n",
      "Working on evolution round: 51\n",
      "Best score: 0.8703243616287094\n",
      "Best parameters: {'learning_rate': 0.19, 'max_depth': 5, 'gamma': 0.042, 'min_child_weight': 2, 'subsample': 0.9, 'colsample': 0.437}\n",
      "Working on evolution round: 52\n",
      "Best score: 0.8749482401656316\n",
      "Best parameters: {'learning_rate': 0.19, 'max_depth': 5, 'gamma': 0.042, 'min_child_weight': 2, 'subsample': 0.9, 'colsample': 0.437}\n",
      "Working on evolution round: 53\n",
      "Best score: 0.8749482401656316\n",
      "Best parameters: {'learning_rate': 0.19, 'max_depth': 5, 'gamma': 0.042, 'min_child_weight': 2, 'subsample': 0.9, 'colsample': 0.437}\n",
      "Working on evolution round: 54\n",
      "Best score: 0.8749482401656316\n",
      "Best parameters: {'learning_rate': 0.19, 'max_depth': 5, 'gamma': 0.042, 'min_child_weight': 2, 'subsample': 0.9, 'colsample': 0.437}\n",
      "Working on evolution round: 55\n",
      "Best score: 0.875224292615597\n",
      "Best parameters: {'learning_rate': 0.19, 'max_depth': 5, 'gamma': 0.042, 'min_child_weight': 2, 'subsample': 0.9, 'colsample': 0.437}\n",
      "Working on evolution round: 56\n",
      "Best score: 0.875224292615597\n",
      "Best parameters: {'learning_rate': 0.19, 'max_depth': 5, 'gamma': 0.042, 'min_child_weight': 2, 'subsample': 0.9, 'colsample': 0.437}\n",
      "Working on evolution round: 57\n",
      "Best score: 0.875224292615597\n",
      "Best parameters: {'learning_rate': 0.19, 'max_depth': 5, 'gamma': 0.042, 'min_child_weight': 2, 'subsample': 0.9, 'colsample': 0.437}\n",
      "Working on evolution round: 58\n",
      "Best score: 0.875224292615597\n",
      "Best parameters: {'learning_rate': 0.19, 'max_depth': 5, 'gamma': 0.042, 'min_child_weight': 2, 'subsample': 0.9, 'colsample': 0.437}\n",
      "Working on evolution round: 59\n",
      "Best score: 0.875224292615597\n",
      "Best parameters: {'learning_rate': 0.19, 'max_depth': 5, 'gamma': 0.042, 'min_child_weight': 2, 'subsample': 0.9, 'colsample': 0.437}\n",
      "Working on evolution round: 60\n",
      "Best score: 0.875224292615597\n",
      "Best parameters: {'learning_rate': 0.19, 'max_depth': 5, 'gamma': 0.042, 'min_child_weight': 2, 'subsample': 0.9, 'colsample': 0.437}\n",
      "Working on evolution round: 61\n",
      "Best score: 0.875224292615597\n",
      "Best parameters: {'learning_rate': 0.19, 'max_depth': 5, 'gamma': 0.042, 'min_child_weight': 2, 'subsample': 0.9, 'colsample': 0.437}\n",
      "Working on evolution round: 62\n",
      "Best score: 0.875224292615597\n",
      "Best parameters: {'learning_rate': 0.19, 'max_depth': 5, 'gamma': 0.042, 'min_child_weight': 2, 'subsample': 0.9, 'colsample': 0.437}\n",
      "Working on evolution round: 63\n",
      "Best score: 0.875224292615597\n",
      "Best parameters: {'learning_rate': 0.19, 'max_depth': 5, 'gamma': 0.042, 'min_child_weight': 2, 'subsample': 0.9, 'colsample': 0.437}\n",
      "Working on evolution round: 64\n",
      "Best score: 0.875224292615597\n",
      "Best parameters: {'learning_rate': 0.19, 'max_depth': 5, 'gamma': 0.042, 'min_child_weight': 2, 'subsample': 0.9, 'colsample': 0.437}\n",
      "Working on evolution round: 65\n",
      "Best score: 0.875224292615597\n",
      "Best parameters: {'learning_rate': 0.19, 'max_depth': 5, 'gamma': 0.042, 'min_child_weight': 2, 'subsample': 0.9, 'colsample': 0.437}\n",
      "Working on evolution round: 66\n",
      "Best score: 0.875224292615597\n",
      "Best parameters: {'learning_rate': 0.19, 'max_depth': 5, 'gamma': 0.042, 'min_child_weight': 2, 'subsample': 0.9, 'colsample': 0.437}\n",
      "Working on evolution round: 67\n",
      "Best score: 0.875224292615597\n",
      "Best parameters: {'learning_rate': 0.19, 'max_depth': 5, 'gamma': 0.042, 'min_child_weight': 2, 'subsample': 0.9, 'colsample': 0.437}\n",
      "Working on evolution round: 68\n",
      "Best score: 0.875224292615597\n",
      "Best parameters: {'learning_rate': 0.19, 'max_depth': 5, 'gamma': 0.042, 'min_child_weight': 2, 'subsample': 0.9, 'colsample': 0.437}\n",
      "Working on evolution round: 69\n",
      "Best score: 0.875224292615597\n",
      "Best parameters: {'learning_rate': 0.19, 'max_depth': 5, 'gamma': 0.042, 'min_child_weight': 2, 'subsample': 0.9, 'colsample': 0.437}\n",
      "Working on evolution round: 70\n",
      "Best score: 0.875224292615597\n",
      "Best parameters: {'learning_rate': 0.19, 'max_depth': 5, 'gamma': 0.042, 'min_child_weight': 2, 'subsample': 0.9, 'colsample': 0.437}\n",
      "Working on evolution round: 71\n",
      "Best score: 0.875224292615597\n",
      "Best parameters: {'learning_rate': 0.19, 'max_depth': 5, 'gamma': 0.042, 'min_child_weight': 2, 'subsample': 0.9, 'colsample': 0.437}\n",
      "Working on evolution round: 72\n",
      "Best score: 0.875224292615597\n",
      "Best parameters: {'learning_rate': 0.19, 'max_depth': 5, 'gamma': 0.042, 'min_child_weight': 2, 'subsample': 0.9, 'colsample': 0.437}\n",
      "Working on evolution round: 73\n",
      "Best score: 0.875224292615597\n",
      "Best parameters: {'learning_rate': 0.19, 'max_depth': 5, 'gamma': 0.042, 'min_child_weight': 2, 'subsample': 0.9, 'colsample': 0.437}\n",
      "Working on evolution round: 74\n",
      "Best score: 0.875224292615597\n",
      "Best parameters: {'learning_rate': 0.19, 'max_depth': 5, 'gamma': 0.042, 'min_child_weight': 2, 'subsample': 0.9, 'colsample': 0.437}\n",
      "Working on evolution round: 75\n",
      "Best score: 0.875224292615597\n",
      "Best parameters: {'learning_rate': 0.19, 'max_depth': 5, 'gamma': 0.042, 'min_child_weight': 2, 'subsample': 0.9, 'colsample': 0.437}\n",
      "Working on evolution round: 76\n",
      "Best score: 0.875224292615597\n",
      "Best parameters: {'learning_rate': 0.19, 'max_depth': 5, 'gamma': 0.042, 'min_child_weight': 2, 'subsample': 0.9, 'colsample': 0.437}\n",
      "Working on evolution round: 77\n",
      "Best score: 0.875224292615597\n",
      "Best parameters: {'learning_rate': 0.19, 'max_depth': 5, 'gamma': 0.042, 'min_child_weight': 2, 'subsample': 0.9, 'colsample': 0.437}\n",
      "Working on evolution round: 78\n",
      "Best score: 0.875224292615597\n",
      "Best parameters: {'learning_rate': 0.19, 'max_depth': 5, 'gamma': 0.042, 'min_child_weight': 2, 'subsample': 0.9, 'colsample': 0.437}\n",
      "Working on evolution round: 79\n",
      "Best score: 0.875224292615597\n",
      "Best parameters: {'learning_rate': 0.19, 'max_depth': 5, 'gamma': 0.042, 'min_child_weight': 2, 'subsample': 0.9, 'colsample': 0.437}\n",
      "Working on evolution round: 80\n",
      "Best score: 0.875224292615597\n",
      "Best parameters: {'learning_rate': 0.19, 'max_depth': 5, 'gamma': 0.042, 'min_child_weight': 2, 'subsample': 0.9, 'colsample': 0.437}\n",
      "Working on evolution round: 81\n",
      "Best score: 0.875224292615597\n",
      "Best parameters: {'learning_rate': 0.19, 'max_depth': 5, 'gamma': 0.042, 'min_child_weight': 2, 'subsample': 0.9, 'colsample': 0.437}\n",
      "Working on evolution round: 82\n",
      "Best score: 0.875224292615597\n",
      "Best parameters: {'learning_rate': 0.19, 'max_depth': 5, 'gamma': 0.042, 'min_child_weight': 2, 'subsample': 0.9, 'colsample': 0.437}\n",
      "Working on evolution round: 83\n",
      "Best score: 0.875224292615597\n",
      "Best parameters: {'learning_rate': 0.19, 'max_depth': 5, 'gamma': 0.042, 'min_child_weight': 2, 'subsample': 0.9, 'colsample': 0.437}\n",
      "Working on evolution round: 84\n",
      "Best score: 0.875224292615597\n",
      "Best parameters: {'learning_rate': 0.19, 'max_depth': 5, 'gamma': 0.042, 'min_child_weight': 2, 'subsample': 0.9, 'colsample': 0.437}\n"
     ]
    },
    {
     "name": "stdout",
     "output_type": "stream",
     "text": [
      "Working on evolution round: 85\n",
      "Best score: 0.875224292615597\n",
      "Best parameters: {'learning_rate': 0.19, 'max_depth': 5, 'gamma': 0.042, 'min_child_weight': 2, 'subsample': 0.9, 'colsample': 0.437}\n",
      "Working on evolution round: 86\n",
      "Best score: 0.875224292615597\n",
      "Best parameters: {'learning_rate': 0.19, 'max_depth': 5, 'gamma': 0.042, 'min_child_weight': 2, 'subsample': 0.9, 'colsample': 0.437}\n",
      "Working on evolution round: 87\n",
      "Best score: 0.875224292615597\n",
      "Best parameters: {'learning_rate': 0.19, 'max_depth': 5, 'gamma': 0.042, 'min_child_weight': 2, 'subsample': 0.9, 'colsample': 0.437}\n",
      "Working on evolution round: 88\n",
      "Best score: 0.875224292615597\n",
      "Best parameters: {'learning_rate': 0.19, 'max_depth': 5, 'gamma': 0.042, 'min_child_weight': 2, 'subsample': 0.9, 'colsample': 0.437}\n",
      "Working on evolution round: 89\n",
      "Best score: 0.875224292615597\n",
      "Best parameters: {'learning_rate': 0.19, 'max_depth': 5, 'gamma': 0.042, 'min_child_weight': 2, 'subsample': 0.9, 'colsample': 0.437}\n",
      "Working on evolution round: 90\n",
      "Best score: 0.875224292615597\n",
      "Best parameters: {'learning_rate': 0.19, 'max_depth': 5, 'gamma': 0.042, 'min_child_weight': 2, 'subsample': 0.9, 'colsample': 0.437}\n",
      "Working on evolution round: 91\n",
      "Best score: 0.875224292615597\n",
      "Best parameters: {'learning_rate': 0.19, 'max_depth': 5, 'gamma': 0.042, 'min_child_weight': 2, 'subsample': 0.9, 'colsample': 0.437}\n",
      "Working on evolution round: 92\n",
      "Best score: 0.875224292615597\n",
      "Best parameters: {'learning_rate': 0.19, 'max_depth': 5, 'gamma': 0.042, 'min_child_weight': 2, 'subsample': 0.9, 'colsample': 0.437}\n",
      "Working on evolution round: 93\n",
      "Best score: 0.875224292615597\n",
      "Best parameters: {'learning_rate': 0.19, 'max_depth': 5, 'gamma': 0.042, 'min_child_weight': 2, 'subsample': 0.9, 'colsample': 0.437}\n",
      "Working on evolution round: 94\n",
      "Best score: 0.875224292615597\n",
      "Best parameters: {'learning_rate': 0.19, 'max_depth': 5, 'gamma': 0.042, 'min_child_weight': 2, 'subsample': 0.9, 'colsample': 0.437}\n",
      "Working on evolution round: 95\n",
      "Best score: 0.875224292615597\n",
      "Best parameters: {'learning_rate': 0.19, 'max_depth': 5, 'gamma': 0.042, 'min_child_weight': 2, 'subsample': 0.9, 'colsample': 0.437}\n",
      "Working on evolution round: 96\n",
      "Best score: 0.875224292615597\n",
      "Best parameters: {'learning_rate': 0.19, 'max_depth': 5, 'gamma': 0.042, 'min_child_weight': 2, 'subsample': 0.9, 'colsample': 0.437}\n",
      "Working on evolution round: 97\n",
      "Best score: 0.875224292615597\n",
      "Best parameters: {'learning_rate': 0.19, 'max_depth': 5, 'gamma': 0.042, 'min_child_weight': 2, 'subsample': 0.9, 'colsample': 0.437}\n",
      "Working on evolution round: 98\n",
      "Best score: 0.875224292615597\n",
      "Best parameters: {'learning_rate': 0.19, 'max_depth': 5, 'gamma': 0.042, 'min_child_weight': 2, 'subsample': 0.9, 'colsample': 0.437}\n",
      "Working on evolution round: 99\n",
      "Best score: 0.875224292615597\n",
      "Best parameters: {'learning_rate': 0.19, 'max_depth': 5, 'gamma': 0.042, 'min_child_weight': 2, 'subsample': 0.9, 'colsample': 0.437}\n",
      "Working on evolution round: 100\n",
      "Best score: 0.875224292615597\n",
      "Best parameters: {'learning_rate': 0.19, 'max_depth': 5, 'gamma': 0.042, 'min_child_weight': 2, 'subsample': 0.9, 'colsample': 0.437}\n",
      "Number of Iterations: 100\n",
      "Best score: 0.875224292615597\n",
      "Best parameters: {'learning_rate': 0.19, 'max_depth': 5, 'gamma': 0.042, 'min_child_weight': 2, 'subsample': 0.9, 'colsample': 0.437}\n"
     ]
    }
   ],
   "source": [
    "best_params = optimise(evaluate_xgboost, search_space,\n",
    "             minimize=False, population_size=10,\n",
    "             n_rounds=100, n_children=10, verbose=True)"
   ]
  },
  {
   "cell_type": "code",
   "execution_count": 17,
   "metadata": {},
   "outputs": [
    {
     "data": {
      "text/plain": [
       "{'learning_rate': 0.19,\n",
       " 'max_depth': 5,\n",
       " 'gamma': 0.042,\n",
       " 'min_child_weight': 2,\n",
       " 'subsample': 0.9,\n",
       " 'colsample': 0.437}"
      ]
     },
     "execution_count": 17,
     "metadata": {},
     "output_type": "execute_result"
    }
   ],
   "source": [
    "best_params"
   ]
  },
  {
   "cell_type": "code",
   "execution_count": null,
   "metadata": {},
   "outputs": [],
   "source": []
  }
 ],
 "metadata": {
  "kernelspec": {
   "display_name": "tf_env",
   "language": "python",
   "name": "tf_env"
  },
  "language_info": {
   "codemirror_mode": {
    "name": "ipython",
    "version": 3
   },
   "file_extension": ".py",
   "mimetype": "text/x-python",
   "name": "python",
   "nbconvert_exporter": "python",
   "pygments_lexer": "ipython3",
   "version": "3.6.5"
  }
 },
 "nbformat": 4,
 "nbformat_minor": 4
}
